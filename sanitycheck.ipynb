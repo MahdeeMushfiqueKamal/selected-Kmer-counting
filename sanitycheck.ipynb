{
 "cells": [
  {
   "cell_type": "code",
   "execution_count": 6,
   "metadata": {},
   "outputs": [],
   "source": [
    "fasta_file = open('lhg22L20MC5x.fa')\n",
    "out_file = open('output.txt', 'w')\n",
    "exact_file = open('test_exact_count_lhg22L20MC5x_20000.txt')\n",
    "whole_genome = ''\n",
    "\n",
    "for line in fasta_file.readlines():\n",
    "    if not line.startswith('>'):\n",
    "        whole_genome += line.strip()"
   ]
  },
  {
   "cell_type": "code",
   "execution_count": 7,
   "metadata": {},
   "outputs": [],
   "source": [
    "def ReverseComplement(Pattern):\n",
    "    '''finds the riverse complement of a seq'''\n",
    "    Pattern= Pattern[::-1]\n",
    "    cmp=''\n",
    "    for i in Pattern:\n",
    "        if i=='A':\n",
    "            cmp=cmp+'T'\n",
    "        elif i=='T':\n",
    "            cmp=cmp+'A'\n",
    "        elif i=='G':\n",
    "            cmp=cmp+'C'\n",
    "        elif i=='C':\n",
    "            cmp=cmp+'G'\n",
    "    return cmp"
   ]
  },
  {
   "cell_type": "code",
   "execution_count": 8,
   "metadata": {},
   "outputs": [],
   "source": [
    "def count(kmer):\n",
    "    return whole_genome.count(kmer) + whole_genome.count(ReverseComplement(kmer))"
   ]
  },
  {
   "cell_type": "code",
   "execution_count": 9,
   "metadata": {},
   "outputs": [
    {
     "data": {
      "text/plain": [
       "325"
      ]
     },
     "execution_count": 9,
     "metadata": {},
     "output_type": "execute_result"
    }
   ],
   "source": [
    "count(\"GATGATTCCATTTGATTCCATT\")"
   ]
  },
  {
   "cell_type": "code",
   "execution_count": 10,
   "metadata": {},
   "outputs": [],
   "source": [
    "#checking all the missmatches\n",
    "out_file.write(\"Kmer,count_from_provided_file,count_using_python_code\\n\")\n",
    "for line in exact_file.readlines():\n",
    "    line = line.strip().split()\n",
    "    if count(line[0]) != int(line[1]):\n",
    "        write_string = line[0] + \",\" +line[1] + \",\" + str(count(line[0])) + \"\\n\"\n",
    "        out_file.write(write_string) "
   ]
  },
  {
   "cell_type": "code",
   "execution_count": null,
   "metadata": {},
   "outputs": [],
   "source": []
  }
 ],
 "metadata": {
  "kernelspec": {
   "display_name": "Python 3.8.10 64-bit",
   "language": "python",
   "name": "python3"
  },
  "language_info": {
   "codemirror_mode": {
    "name": "ipython",
    "version": 3
   },
   "file_extension": ".py",
   "mimetype": "text/x-python",
   "name": "python",
   "nbconvert_exporter": "python",
   "pygments_lexer": "ipython3",
   "version": "3.8.10"
  },
  "orig_nbformat": 4,
  "vscode": {
   "interpreter": {
    "hash": "e7370f93d1d0cde622a1f8e1c04877d8463912d04d973331ad4851f04de6915a"
   }
  }
 },
 "nbformat": 4,
 "nbformat_minor": 2
}
