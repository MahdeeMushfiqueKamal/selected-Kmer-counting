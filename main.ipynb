{
 "cells": [
  {
   "cell_type": "markdown",
   "metadata": {},
   "source": [
    "### Prints details of kmers in `searchedKmers` into `write_file` for input fasta file "
   ]
  },
  {
   "cell_type": "code",
   "execution_count": 1,
   "metadata": {},
   "outputs": [],
   "source": [
    "fasta_file = open('lhg22L20MC5x.fa')\n",
    "write_file = open('report.csv', 'w')\n",
    "currentHeader = \"\"\n",
    "currentKmer = \"\"\n",
    "searchedKmers = [\"GATGATTCCATTTGATTCCATT\", \"AATGGAATCAAATGGAATCATC\"]\n",
    "kmerLen = 22\n",
    "occurance = 0 \n"
   ]
  },
  {
   "cell_type": "code",
   "execution_count": 3,
   "metadata": {},
   "outputs": [
    {
     "name": "stdout",
     "output_type": "stream",
     "text": [
      "323\n"
     ]
    }
   ],
   "source": [
    "lines = fasta_file.readlines()\n",
    "for line_no in range(len(lines)): \n",
    "    line = lines[line_no]\n",
    "    if line.startswith(\">\"):\n",
    "        currentHeader = line.strip()\n",
    "    else: \n",
    "        #kmer line\n",
    "        if currentKmer != \"\":\n",
    "            for i in range(len(line)):\n",
    "                # do things with last kmer\n",
    "                if(len(currentKmer)!= kmerLen):\n",
    "                    print(\"Kmer len error for \", currentKmer)\n",
    "                isFragmented = True if '\\n' in currentKmer else False\n",
    "                if(currentKmer in searchedKmers): \n",
    "                    occurance += 1\n",
    "                    write_string = currentKmer+\",\"+str(line_no+1) +\",\"+str(isFragmented)+\",\"+currentHeader+\"\\n\"\n",
    "                    write_file.write(write_string)\n",
    "\n",
    "                #process next characters\n",
    "                currentKmer = currentKmer[1:] #excluded the last character\n",
    "                currentKmer += line[i]\n",
    "\n",
    "        else:\n",
    "            currentKmer = line[0:0+kmerLen]\n",
    "\n",
    "print(occurance)"
   ]
  },
  {
   "cell_type": "code",
   "execution_count": null,
   "metadata": {},
   "outputs": [],
   "source": []
  }
 ],
 "metadata": {
  "kernelspec": {
   "display_name": "Python 3.8.10 64-bit",
   "language": "python",
   "name": "python3"
  },
  "language_info": {
   "codemirror_mode": {
    "name": "ipython",
    "version": 3
   },
   "file_extension": ".py",
   "mimetype": "text/x-python",
   "name": "python",
   "nbconvert_exporter": "python",
   "pygments_lexer": "ipython3",
   "version": "3.8.10"
  },
  "orig_nbformat": 4,
  "vscode": {
   "interpreter": {
    "hash": "e7370f93d1d0cde622a1f8e1c04877d8463912d04d973331ad4851f04de6915a"
   }
  }
 },
 "nbformat": 4,
 "nbformat_minor": 2
}
