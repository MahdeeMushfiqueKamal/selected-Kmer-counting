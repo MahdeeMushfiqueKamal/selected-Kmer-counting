{
 "cells": [
  {
   "cell_type": "markdown",
   "metadata": {},
   "source": [
    "### reads a chunk of 1000 characters from input fasta file and find the number of occurances for selected kmers"
   ]
  },
  {
   "cell_type": "code",
   "execution_count": 1,
   "metadata": {},
   "outputs": [],
   "source": [
    "fasta_file = open('lhg22L20MC5x.fa')\n",
    "outfile = open('all_kmers_from_python.txt','w')\n",
    "isInHeader = False\n",
    "searchedKmers = [\"TTCAAAGCTGCTCTGTAAAAAG\", \"CTTTTTACAGAGCAGCTTTGAA\"]\n",
    "kmerLen = 22\n",
    "occurance = 0 \n",
    "currentKmer = \"\""
   ]
  },
  {
   "cell_type": "code",
   "execution_count": 2,
   "metadata": {},
   "outputs": [],
   "source": [
    "whole_file_str = fasta_file.read()\n",
    "chunks = []\n",
    "i = 0\n",
    "while i<len(whole_file_str):\n",
    "    new_chunk = whole_file_str[i:i+1000]\n",
    "    i+= 1000\n",
    "    chunks.append(new_chunk)\n"
   ]
  },
  {
   "cell_type": "code",
   "execution_count": 3,
   "metadata": {},
   "outputs": [
    {
     "data": {
      "text/plain": [
       "54875"
      ]
     },
     "execution_count": 3,
     "metadata": {},
     "output_type": "execute_result"
    }
   ],
   "source": [
    "len(chunks)"
   ]
  },
  {
   "cell_type": "code",
   "execution_count": 4,
   "metadata": {},
   "outputs": [
    {
     "data": {
      "text/plain": [
       "848"
      ]
     },
     "execution_count": 4,
     "metadata": {},
     "output_type": "execute_result"
    }
   ],
   "source": [
    "len(chunks[54874])"
   ]
  },
  {
   "cell_type": "code",
   "execution_count": 5,
   "metadata": {},
   "outputs": [
    {
     "name": "stdout",
     "output_type": "stream",
     "text": [
      "1224\n"
     ]
    }
   ],
   "source": [
    "chunk_no = 0\n",
    "for chunk in chunks: \n",
    "    chunk_no += 1\n",
    "    # read each char by char\n",
    "    # print(repr(chunk))\n",
    "    i = 0\n",
    "    while i<1000:\n",
    "        if i >= len(chunk):\n",
    "            break\n",
    "        ch = chunk[i]\n",
    "        #setting isinheader\n",
    "        if ch == \">\":\n",
    "            isInHeader = True\n",
    "        elif isInHeader == True and ch=='\\n':\n",
    "            isInHeader = False\n",
    "            currentKmer = \"\"\n",
    "        #checking if isInHeader is set ok\n",
    "        # print(\"char found \", ch ,\"-\", ord(ch), \"\\t\", isInHeader)\n",
    "        # discarding if isInHeader\n",
    "        if isInHeader:\n",
    "            i+=1\n",
    "            continue\n",
    "        #discarding new char\n",
    "        if ch == '\\n' or ch == \"\\r\" or ch == \" \": \n",
    "            i+=1\n",
    "            continue\n",
    "        #checking N case\n",
    "        if ch == \"N\":\n",
    "            currentKmer = \"\"\n",
    "            i+=1\n",
    "            continue\n",
    "        else: \n",
    "            #basepair found - either append or replace\n",
    "            if len(currentKmer)< kmerLen: \n",
    "                currentKmer += ch\n",
    "            else: \n",
    "                currentKmer = currentKmer[1:]\n",
    "                currentKmer = currentKmer + ch\n",
    "                # sanity check\n",
    "                outfile.write(str(currentKmer+'\\n'))\n",
    "            if currentKmer in searchedKmers:\n",
    "                    occurance+=1\n",
    "        i+=1\n",
    "    # if chunk_no == 5:\n",
    "    #     break\n",
    "\n",
    "print(occurance)\n",
    "    "
   ]
  },
  {
   "cell_type": "code",
   "execution_count": null,
   "metadata": {},
   "outputs": [],
   "source": []
  }
 ],
 "metadata": {
  "kernelspec": {
   "display_name": "Python 3.8.10 64-bit",
   "language": "python",
   "name": "python3"
  },
  "language_info": {
   "codemirror_mode": {
    "name": "ipython",
    "version": 3
   },
   "file_extension": ".py",
   "mimetype": "text/x-python",
   "name": "python",
   "nbconvert_exporter": "python",
   "pygments_lexer": "ipython3",
   "version": "3.8.10"
  },
  "orig_nbformat": 4,
  "vscode": {
   "interpreter": {
    "hash": "e7370f93d1d0cde622a1f8e1c04877d8463912d04d973331ad4851f04de6915a"
   }
  }
 },
 "nbformat": 4,
 "nbformat_minor": 2
}
